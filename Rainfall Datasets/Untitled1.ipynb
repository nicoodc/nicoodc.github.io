{
 "cells": [
  {
   "cell_type": "code",
   "execution_count": 2,
   "id": "993db21f-9b7c-4052-a1a8-7d04335276da",
   "metadata": {},
   "outputs": [],
   "source": [
    "import numpy as np\n",
    "import pandas as pd\n",
    "import matplotlib.pyplot as plt\n",
    "from sklearn.preprocessing import StandardScaler\n",
    "from sklearn.metrics import mean_squared_error, mean_absolute_error, r2_score\n",
    "from tensorflow.keras.models import Sequential\n",
    "from tensorflow.keras.layers import LSTM, Dropout, Dense\n",
    "\n"
   ]
  },
  {
   "cell_type": "code",
   "execution_count": 11,
   "id": "10b96deb-0385-42c5-9ef4-70b237328c0b",
   "metadata": {},
   "outputs": [],
   "source": [
    "def load_and_preprocess_data():\n",
    "    file_2022 = pd.read_excel('Region_4A_DA_MORONG_RIZAL_1-1-22_12-00_AM_1_Year_1732084536_v2.xlsx')\n",
    "    file_2023 = pd.read_excel('Region_4A_DA_MORONG_RIZAL_1-1-23_12-00_AM_1_Year_1732084578_v2.xlsx')\n",
    "    file_2024 = pd.read_excel('Region_4A_DA_MORONG_RIZAL_1-1-24_12-00_AM_1_Year_1732084607_v2.xlsx')\n",
    "\n",
    "    cols_needed = ['Date & Time', 'Rain - mm', 'Rain Rate - mm/h']\n",
    "    df_2022 = file_2022[cols_needed]\n",
    "    df_2023 = file_2023[cols_needed]\n",
    "    df_2024 = file_2024[cols_needed]\n",
    "\n",
    "    combined_df = pd.concat([df_2022, df_2023, df_2024], ignore_index=True)\n",
    "\n",
    "    combined_df['Date & Time'] = pd.to_datetime(combined_df['Date & Time'], format='%m/%d/%y %I:%M %p')\n",
    "    combined_df = combined_df.sort_values(by='Date & Time')\n",
    "    combined_df['Rain - mm'] = combined_df['Rain - mm'].fillna(0)\n",
    "    combined_df['Rain Rate - mm/h'] = combined_df['Rain Rate - mm/h'].fillna(0)\n",
    "\n",
    "    combined_df.set_index('Date & Time', inplace=True)\n",
    "    print(\"Combined Data Head:\")\n",
    "    print(combined_df.head())\n",
    "    print(\"\\nSummary of Combined Data:\")\n",
    "    print(combined_df.describe())\n",
    "    return combined_df"
   ]
  },
  {
   "cell_type": "code",
   "execution_count": 15,
   "id": "e9ae4cf3-bddb-409a-978e-dfd0f3cbc4ca",
   "metadata": {},
   "outputs": [],
   "source": [
    "def resample_data(df):\n",
    "    resampled_15min = df.resample('15T').mean()\n",
    "    resampled_1hr = df.resample('1H').mean()\n",
    "    resampled_2hr = df.resample('2H').mean()\n",
    "    return resampled_15min, resampled_1hr, resampled_2hr\n",
    "\n",
    "# Creating sequences for LSTM input\n",
    "def create_sequences(data, n_past, n_future):\n",
    "    sequences, labels = [], []\n",
    "    for i in range(len(data) - n_past - n_future):\n",
    "        seq = data.iloc[i:i + n_past].values\n",
    "        label = data.iloc[i + n_past:i + n_past + n_future]['Rain Rate - mm/h'].mean()\n",
    "        sequences.append(seq)\n",
    "        labels.append(label)\n",
    "    return np.array(sequences), np.array(labels)"
   ]
  },
  {
   "cell_type": "code",
   "execution_count": 17,
   "id": "93a31464-c12c-4e0a-b0bc-1cf17b031be2",
   "metadata": {},
   "outputs": [],
   "source": [
    "def build_and_train_model(X, y, input_shape):\n",
    "    model = Sequential([\n",
    "        LSTM(64, return_sequences=True, input_shape=input_shape),\n",
    "        Dropout(0.2),\n",
    "        LSTM(32, return_sequences=False),\n",
    "        Dropout(0.2),\n",
    "        Dense(1)\n",
    "    ])\n",
    "    model.compile(optimizer='adam', loss='mean_squared_error')\n",
    "    history = model.fit(X, y, epochs=20, batch_size=32, validation_split=0.2, verbose=1)\n",
    "    return model, history\n"
   ]
  },
  {
   "cell_type": "code",
   "execution_count": 19,
   "id": "c610b291-f42b-460c-8bd7-2dbe36ae8f92",
   "metadata": {},
   "outputs": [],
   "source": [
    "def evaluate_and_visualize_model(model, X_test, y_test, title):\n",
    "    predictions = model.predict(X_test).flatten()\n",
    "    rmse = np.sqrt(mean_squared_error(y_test, predictions))\n",
    "    mae = mean_absolute_error(y_test, predictions)\n",
    "    r2 = r2_score(y_test, predictions)\n",
    "    accuracy = (1 - np.mean(np.abs((y_test - predictions) / y_test))) * 100\n",
    "\n",
    "    print(f\"{title} Metrics:\")\n",
    "    print(f\"  RMSE: {rmse:.4f}\")\n",
    "    print(f\"  MAE: {mae:.4f}\")\n",
    "    print(f\"  R²: {r2:.4f}\")\n",
    "    print(f\"  Accuracy: {accuracy:.2f}%\")\n",
    "\n",
    "    plt.figure(figsize=(10, 6))\n",
    "    plt.plot(y_test, label='Actual', color='blue', alpha=0.6)\n",
    "    plt.plot(predictions, label='Predicted', color='red', alpha=0.6)\n",
    "    plt.title(f'{title} - Actual vs Predicted')\n",
    "    plt.xlabel('Time Steps')\n",
    "    plt.ylabel('Rainfall Rate')\n",
    "    plt.legend()\n",
    "    plt.grid()\n",
    "    plt.show()\n",
    "\n",
    "    return predictions"
   ]
  },
  {
   "cell_type": "code",
   "execution_count": 21,
   "id": "7d303f38-f2e5-4b8f-b4f0-440bd7c52074",
   "metadata": {},
   "outputs": [],
   "source": [
    "def predict_future(model, recent_data, n_past):\n",
    "    recent_sequence = recent_data[-n_past:].values.reshape(1, n_past, recent_data.shape[1])\n",
    "    prediction = model.predict(recent_sequence).flatten()\n",
    "    return prediction"
   ]
  },
  {
   "cell_type": "code",
   "execution_count": null,
   "id": "664db86f-9ca9-4ec3-9b09-8c5cb7c9f48e",
   "metadata": {},
   "outputs": [],
   "source": []
  },
  {
   "cell_type": "code",
   "execution_count": null,
   "id": "f3908763-7b6b-4718-91c8-9b317cc706c9",
   "metadata": {},
   "outputs": [],
   "source": []
  },
  {
   "cell_type": "code",
   "execution_count": null,
   "id": "37baf1b5-e892-452a-b7a6-076589226109",
   "metadata": {},
   "outputs": [],
   "source": []
  }
 ],
 "metadata": {
  "kernelspec": {
   "display_name": "Python 3 (ipykernel)",
   "language": "python",
   "name": "python3"
  },
  "language_info": {
   "codemirror_mode": {
    "name": "ipython",
    "version": 3
   },
   "file_extension": ".py",
   "mimetype": "text/x-python",
   "name": "python",
   "nbconvert_exporter": "python",
   "pygments_lexer": "ipython3",
   "version": "3.12.7"
  }
 },
 "nbformat": 4,
 "nbformat_minor": 5
}
